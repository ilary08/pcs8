{
 "cells": [
  {
   "cell_type": "markdown",
   "metadata": {},
   "source": [
    "BASIC DATA TYPES "
   ]
  },
  {
   "cell_type": "code",
   "execution_count": 1,
   "metadata": {},
   "outputs": [],
   "source": [
    "#list comprehensions\n",
    "if __name__ == '__main__':\n",
    "    x = int(input())\n",
    "    y = int(input())\n",
    "    z = int(input())\n",
    "    n = int(input())\n",
    "    list_comprehension = [[i,j,k] for i in range(x+1) for j in range(y+1) for k in range(z+1) if i+j+k != n]\n",
    "    print(list_comprehension)\n"
   ]
  },
  {
   "cell_type": "code",
   "execution_count": null,
   "metadata": {},
   "outputs": [],
   "source": [
    "#find the runner up score\n",
    "if __name__ == '__main__':\n",
    "    n = int(input())\n",
    "    arr = map(int, input().split())\n",
    "    print(sorted(set(arr), reverse=True)[1])\n"
   ]
  },
  {
   "cell_type": "code",
   "execution_count": null,
   "metadata": {},
   "outputs": [],
   "source": [
    "#nested list\n",
    "N = int(input())\n",
    "students = []\n",
    "for x in range(2*N):\n",
    "    students.append(input().split())\n",
    "grades = {}\n",
    "for y in range(0,len(students),2):\n",
    "    grades[students[y][0]] = float(students[y+1][0])\n",
    "final_result = []\n",
    "lowest_grade= sorted(set(grades.values())) [1]\n",
    "for student in grades.keys():\n",
    "    if grades[student] == lowest_grade:\n",
    "        final_result.append(student)\n",
    "for k in sorted(final_result):\n",
    "    print(k)\n"
   ]
  },
  {
   "cell_type": "code",
   "execution_count": null,
   "metadata": {},
   "outputs": [],
   "source": [
    "#finding the percentage\n",
    "if __name__ == '__main__':\n",
    "    n = int(input())\n",
    "    student_marks = {}\n",
    "    for _ in range(n):\n",
    "        name, *line = input().split()\n",
    "        scores = list(map(float, line))\n",
    "        student_marks[name] = scores\n",
    "    query_name = input()\n",
    "    result = list(student_marks[query_name])\n",
    "    percentage = sum(result)/len(result)\n",
    "    print(\"%.2f\"%percentage)\n"
   ]
  },
  {
   "cell_type": "code",
   "execution_count": null,
   "metadata": {},
   "outputs": [],
   "source": [
    "#lists\n",
    "if __name__ == '__main__':\n",
    "    N = int(input())\n",
    "    list = []\n",
    "    for i in range(0,N):\n",
    "        x = input(). split()\n",
    "        if len(x) == 3:\n",
    "            eval(\"list.\" + x[0] + \"(\" + x[1] + \",\" + x[2] + \")\")\n",
    "        elif len(x) == 2:\n",
    "            eval(\"list.\" + x[0] + \"(\" + x[1] + \")\")\n",
    "        elif x[0] == \"print\":\n",
    "            print (list)\n",
    "        else:\n",
    "            eval(\"list.\" + x[0] + \"()\")\n",
    "\n"
   ]
  },
  {
   "cell_type": "markdown",
   "metadata": {},
   "source": [
    "STRINGS"
   ]
  },
  {
   "cell_type": "code",
   "execution_count": null,
   "metadata": {},
   "outputs": [],
   "source": [
    "#string split and join\n",
    "def split_and_join(line):\n",
    "    a =line.split(\" \")\n",
    "    a = \"-\". join(a)\n",
    "    return a\n",
    "    \n",
    "    # write your code here\n",
    "\n",
    "if __name__ == '__main__':\n",
    "    line = input()\n",
    "    result = split_and_join(line)\n",
    "    print(result)\n"
   ]
  },
  {
   "cell_type": "code",
   "execution_count": null,
   "metadata": {},
   "outputs": [],
   "source": [
    "#what's your name?\n",
    "def print_full_name(first, last):\n",
    "    print(\"Hello\" ,first_name, last_name + \"! You just delved into python.\")\n",
    "   \n",
    "if __name__ == '__main__':\n",
    "    first_name = input()\n",
    "    last_name = input()\n",
    "    print_full_name(first_name, last_name)\n"
   ]
  },
  {
   "cell_type": "code",
   "execution_count": null,
   "metadata": {},
   "outputs": [],
   "source": [
    "#mutations\n",
    "def mutate_string(string, position, character):\n",
    "   string_string = list(string)\n",
    "   string_string[position] = character\n",
    "   string = \"\". join(string_string)\n",
    "   return string\n",
    "if __name__ == '__main__':\n",
    "    s = input()\n",
    "    i, c = input().split()\n",
    "    s_new = mutate_string(s, int(i), c)\n",
    "    print(s_new)\n"
   ]
  },
  {
   "cell_type": "code",
   "execution_count": null,
   "metadata": {},
   "outputs": [],
   "source": [
    "#text alignament\n",
    "thickness = int(input()) #This must be an odd number\n",
    "c = 'H'\n",
    "\n",
    "#Top Cone\n",
    "for i in range(thickness):\n",
    "    print((c*i).rjust(thickness-1)+c+(c*i).ljust(thickness-1))\n",
    "\n",
    "#Top Pillars\n",
    "for i in range(thickness+1):\n",
    "    print((c*thickness).center(thickness*2)+(c*thickness).center(thickness*6))\n",
    "\n",
    "#Middle Belt\n",
    "for i in range((thickness+1)//2):\n",
    "    print((c*thickness*5).center(thickness*6))    \n",
    "\n",
    "#Bottom Pillars\n",
    "for i in range(thickness+1):\n",
    "    print((c*thickness).center(thickness*2)+(c*thickness).center(thickness*6))    \n",
    "\n",
    "#Bottom Cone\n",
    "for i in range(thickness):\n",
    "    print(((c*(thickness-i-1)).rjust(thickness)+c+(c*(thickness-i-1)).ljust(thickness)).rjust(thickness*6))\n",
    "\n",
    "\n"
   ]
  },
  {
   "cell_type": "markdown",
   "metadata": {},
   "source": [
    "SETS"
   ]
  },
  {
   "cell_type": "code",
   "execution_count": null,
   "metadata": {},
   "outputs": [],
   "source": [
    "#introduction to set\n",
    "def average(array):\n",
    "    \n",
    "    array = set(array)\n",
    "    return sum(array) / len(array)\n",
    "if __name__ == '__main__':\n",
    "    n = int(input())\n",
    "    arr = list(map(int, input().split()))\n",
    "    result = average(arr)\n",
    "    print(result)\n"
   ]
  },
  {
   "cell_type": "code",
   "execution_count": null,
   "metadata": {},
   "outputs": [],
   "source": [
    "#symmetric difference\n",
    "M = int(input())\n",
    "M_set = set(map(int, input().split()))\n",
    "N = int(input())\n",
    "N_set = set(map(int, input().split()))\n",
    "M2 = M_set.difference(N_set)\n",
    "N2 = N_set.difference(M_set)\n",
    "result = M2.union(N2)\n",
    "for i in sorted(list(result)):\n",
    "    print(i)\n"
   ]
  },
  {
   "cell_type": "code",
   "execution_count": null,
   "metadata": {},
   "outputs": [],
   "source": [
    "#set.add()\n",
    "N = int(input())\n",
    "country_name = set()\n",
    "for i in range(N):\n",
    "    country_name.add(input())\n",
    "print(len(country_name)) \n"
   ]
  },
  {
   "cell_type": "code",
   "execution_count": null,
   "metadata": {},
   "outputs": [],
   "source": [
    "#set.union()\n",
    "n = int(input())\n",
    "english = set(map(int, input().split()))\n",
    "b = int(input())\n",
    "french = set(map(int, input().split()))\n",
    "print(len(english.union(french)))\n"
   ]
  },
  {
   "cell_type": "markdown",
   "metadata": {},
   "source": [
    "MATH"
   ]
  },
  {
   "cell_type": "code",
   "execution_count": null,
   "metadata": {},
   "outputs": [],
   "source": [
    "#polar coordinations\n",
    "import cmath\n",
    "z = input()\n",
    "print(abs(complex(z)))\n",
    "print(cmath.phase(complex(z)))\n"
   ]
  },
  {
   "cell_type": "code",
   "execution_count": null,
   "metadata": {},
   "outputs": [],
   "source": [
    "#mod divmod\n",
    "a = int(input())\n",
    "b = int(input())\n",
    "print (a // b)\n",
    "print(a%b)\n",
    "print (divmod(a,b))\n"
   ]
  },
  {
   "cell_type": "code",
   "execution_count": null,
   "metadata": {},
   "outputs": [],
   "source": [
    "#power-mod power\n",
    "a = int(input())\n",
    "b = int(input())\n",
    "m = int(input())\n",
    "print(pow(a,b))\n",
    "print(pow(a,b,m))\n"
   ]
  },
  {
   "cell_type": "code",
   "execution_count": null,
   "metadata": {},
   "outputs": [],
   "source": [
    "#integers come in all sizes\n",
    "a = int(input())\n",
    "b = int(input())\n",
    "c = int(input())\n",
    "d = int(input())\n",
    "print((a**b) + (c**d))\n"
   ]
  },
  {
   "cell_type": "markdown",
   "metadata": {},
   "source": [
    "ITER TOOLS"
   ]
  },
  {
   "cell_type": "code",
   "execution_count": null,
   "metadata": {},
   "outputs": [],
   "source": [
    "#itertools.product()\n",
    "from itertools import product \n",
    "A = list(map(int, input().split()))\n",
    "B = list(map(int, input().split()))\n",
    "print(*product (A,B))\n"
   ]
  },
  {
   "cell_type": "code",
   "execution_count": null,
   "metadata": {},
   "outputs": [],
   "source": [
    "#itertools.permutations()\n",
    "from itertools import permutations\n",
    "S,k = input().split()\n",
    "for i in list(sorted(permutations(S, int(k)))):\n",
    "    print(\"\".join(i))\n"
   ]
  },
  {
   "cell_type": "code",
   "execution_count": null,
   "metadata": {},
   "outputs": [],
   "source": [
    "#itertools.combinations()\n",
    "from itertools import combinations\n",
    "S,k = input().split()\n",
    "for x in range(1, int(k)+1):\n",
    "    for y in combinations(sorted(S), x):\n",
    "        print(''.join(y))\n"
   ]
  },
  {
   "cell_type": "code",
   "execution_count": null,
   "metadata": {},
   "outputs": [],
   "source": [
    "#itertools.combination_with_replacement()\n",
    "from itertools import combinations_with_replacement\n",
    "S,k = input().split()\n",
    "for x in list(combinations_with_replacement(sorted(S), int(k))):\n",
    "    print(''.join(x))\n"
   ]
  },
  {
   "cell_type": "markdown",
   "metadata": {},
   "source": [
    "COLLECTIONS"
   ]
  },
  {
   "cell_type": "code",
   "execution_count": null,
   "metadata": {},
   "outputs": [],
   "source": [
    "#collections.counter()\n",
    "from collections import Counter\n",
    "number_shoes = int(input())\n",
    "shoe_sizes = Counter(map(int, input().split()))\n",
    "number_customers= int(input())\n",
    "money = 0\n",
    "for i in range(number_customers):\n",
    "    (size,price) = (map(int, input().split()))\n",
    "    if shoe_sizes[size] > 0:\n",
    "        shoe_sizes[size] -= 1\n",
    "        money += price\n",
    "print(money)\n"
   ]
  },
  {
   "cell_type": "code",
   "execution_count": null,
   "metadata": {},
   "outputs": [],
   "source": [
    "#dafaultdict tutorial\n",
    "from collections import defaultdict\n",
    "defaultdict_list = defaultdict(list)\n",
    "n, m= map(int, input().split())\n",
    "for i in range(n):\n",
    "    defaultdict_list[input()].append(i+1)\n",
    "for x in range(m):\n",
    "    a = input()\n",
    "    if a in defaultdict_list:\n",
    "        print(*defaultdict_list[a])\n",
    "    else:\n",
    "        print(-1)\n"
   ]
  },
  {
   "cell_type": "code",
   "execution_count": null,
   "metadata": {},
   "outputs": [],
   "source": [
    "#collections.ordereddict()\n",
    "from collections import OrderedDict\n",
    "N = int(input())\n",
    "a = OrderedDict()\n",
    "for i in range(N):\n",
    "    item = input().split()\n",
    "    price = int(item[-1])\n",
    "    name = \" \".join(item[:-1])\n",
    "    if(a.get(name)):\n",
    "        a[name] += price\n",
    "    else: \n",
    "        a[name] = price\n",
    "for i in a.keys():\n",
    "    print(i, a[i])    \n"
   ]
  },
  {
   "cell_type": "code",
   "execution_count": null,
   "metadata": {},
   "outputs": [],
   "source": [
    "#collections.deque()\n",
    "from collections import deque \n",
    "a = deque()\n",
    "N = int(input())\n",
    "for i in range(N):\n",
    "    x = input().strip().split()\n",
    "    if (x[0] == 'append'):\n",
    "        a.append(x[1])\n",
    "    elif (x[0] == 'pop'): \n",
    "        a.pop()\n",
    "    elif (x[0] == 'popleft'):\n",
    "        a.popleft()\n",
    "    elif (x[0] == 'appendleft'):\n",
    "        a.appendleft(x[1])\n",
    "print (' '.join(a))  \n"
   ]
  }
 ],
 "metadata": {
  "kernelspec": {
   "display_name": "Python 3.10.2 64-bit",
   "language": "python",
   "name": "python3"
  },
  "language_info": {
   "codemirror_mode": {
    "name": "ipython",
    "version": 3
   },
   "file_extension": ".py",
   "mimetype": "text/x-python",
   "name": "python",
   "nbconvert_exporter": "python",
   "pygments_lexer": "ipython3",
   "version": "3.10.2"
  },
  "orig_nbformat": 4,
  "vscode": {
   "interpreter": {
    "hash": "5071cda9a5660602aca701335f27c10e4afae7f60ddd820f1297d11c505cfd3c"
   }
  }
 },
 "nbformat": 4,
 "nbformat_minor": 2
}
